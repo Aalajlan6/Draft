{
 "cells": [
  {
   "cell_type": "code",
   "execution_count": null,
   "id": "dce8e1bd-0293-4bf8-b44b-12ea8d186443",
   "metadata": {},
   "outputs": [],
   "source": [
    "\"\"\"\n",
    "Produce plot of amount of protein needed over a range of ligand KDs\n",
    "\n",
    "Generates a plot of protein needed to reach a desired fraction bound\n",
    "in a competition experiment, dependant on ligand KD.  For the manuscript\n",
    "\"Identification of optimum ligand affinity for competition-based primary screens\"\n",
    "by Shave et.al.\n",
    "\"\"\"\n",
    "\n",
    "from claffinity import CompetitionLabelAffinity\n",
    "\n",
    "competition_label_affinity=CompetitionLabelAffinity()\n",
    "competition_label_affinity.plot_protein_needed_vs_ligand_kd()"
   ]
  }
 ],
 "metadata": {
  "kernelspec": {
   "display_name": "Python 3 (ipykernel)",
   "language": "python",
   "name": "python3"
  },
  "language_info": {
   "codemirror_mode": {
    "name": "ipython",
    "version": 3
   },
   "file_extension": ".py",
   "mimetype": "text/x-python",
   "name": "python",
   "nbconvert_exporter": "python",
   "pygments_lexer": "ipython3",
   "version": "3.11.7"
  }
 },
 "nbformat": 4,
 "nbformat_minor": 5
}
